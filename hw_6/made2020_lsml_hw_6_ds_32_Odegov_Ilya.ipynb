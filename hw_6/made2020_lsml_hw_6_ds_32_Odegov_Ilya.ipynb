{
 "cells": [
  {
   "cell_type": "code",
   "execution_count": 1,
   "metadata": {},
   "outputs": [],
   "source": [
    "import org.apache.spark.mllib.linalg.Vectors\n",
    "import org.apache.spark.sql.SparkSession\n",
    "\n",
    "import scala.collection.breakOut\n",
    "import scala.collection.mutable._\n",
    "import scala.math"
   ]
  },
  {
   "cell_type": "code",
   "execution_count": 2,
   "metadata": {},
   "outputs": [
    {
     "data": {
      "text/plain": [
       "spark = org.apache.spark.sql.SparkSession@7dd2a32\n"
      ]
     },
     "metadata": {},
     "output_type": "display_data",
     "source": "user"
    },
    {
     "data": {
      "text/plain": [
       "org.apache.spark.sql.SparkSession@7dd2a32"
      ]
     },
     "execution_count": 2,
     "metadata": {},
     "output_type": "execute_result"
    }
   ],
   "source": [
    "val spark = SparkSession.builder()\n",
    "    .master(\"local[*]\")\n",
    "    .config(\"spark.executor.cores\", \"6\")\n",
    "    .appName(\"tfIdf\")\n",
    "    .getOrCreate()"
   ]
  },
  {
   "cell_type": "code",
   "execution_count": 3,
   "metadata": {},
   "outputs": [],
   "source": [
    "import spark.implicits._\n",
    "import org.apache.spark.sql.Row\n",
    "import org.apache.spark.sql.types._\n",
    "import org.apache.spark.sql.functions._"
   ]
  },
  {
   "cell_type": "code",
   "execution_count": 4,
   "metadata": {},
   "outputs": [
    {
     "name": "stdout",
     "output_type": "stream",
     "text": [
      "+--------------------------------------------------------------------------------+\n",
      "|                                                                          Review|\n",
      "+--------------------------------------------------------------------------------+\n",
      "|nice hotel expensive parking got good deal stay hotel anniversary, arrived la...|\n",
      "|ok nothing special charge diamond member hilton decided chain shot 20th anniv...|\n",
      "|nice rooms not 4* experience hotel monaco seattle good hotel n't 4* level.pos...|\n",
      "|unique, great stay, wonderful time hotel monaco, location excellent short str...|\n",
      "|great stay great stay, went seahawk game awesome, downfall view building did ...|\n",
      "+--------------------------------------------------------------------------------+\n",
      "only showing top 5 rows\n",
      "\n"
     ]
    },
    {
     "data": {
      "text/plain": [
       "options = Map(inferSchema -> true, sep -> ,, header -> true)\n",
       "reviews = [Review: string]\n"
      ]
     },
     "metadata": {},
     "output_type": "display_data",
     "source": "user"
    },
    {
     "data": {
      "text/plain": [
       "[Review: string]"
      ]
     },
     "execution_count": 4,
     "metadata": {},
     "output_type": "execute_result"
    }
   ],
   "source": [
    "val options = Map(\n",
    "    \"header\" -> \"true\", \"sep\" -> \",\", \"inferSchema\" -> \"true\")\n",
    "val reviews = spark.read\n",
    "    .options(options)\n",
    "    .csv(\"./tripadvisor_hotel_reviews.csv\").select(\"Review\")\n",
    "reviews.show(5, 80, false)"
   ]
  },
  {
   "cell_type": "code",
   "execution_count": 5,
   "metadata": {},
   "outputs": [
    {
     "name": "stdout",
     "output_type": "stream",
     "text": [
      "+--------------------------------------------------------------------------------+\n",
      "|                                                                          Review|\n",
      "+--------------------------------------------------------------------------------+\n",
      "|nice hotel expensive parking got good deal stay hotel anniversary, arrived la...|\n",
      "|ok nothing special charge diamond member hilton decided chain shot 20th anniv...|\n",
      "|nice rooms not 4* experience hotel monaco seattle good hotel n't 4* level.pos...|\n",
      "|unique, great stay, wonderful time hotel monaco, location excellent short str...|\n",
      "|great stay great stay, went seahawk game awesome, downfall view building did ...|\n",
      "+--------------------------------------------------------------------------------+\n",
      "only showing top 5 rows\n",
      "\n"
     ]
    },
    {
     "data": {
      "text/plain": [
       "existReviews = [Review: string]\n"
      ]
     },
     "metadata": {},
     "output_type": "display_data",
     "source": "user"
    },
    {
     "data": {
      "text/plain": [
       "class org.apache.spark.sql.Dataset"
      ]
     },
     "execution_count": 5,
     "metadata": {},
     "output_type": "execute_result"
    }
   ],
   "source": [
    "// drop empty row\n",
    "val existReviews = reviews.na.drop(Seq(\"Review\"))\n",
    "existReviews.show(5, 80, false)\n",
    "existReviews.getClass"
   ]
  },
  {
   "cell_type": "code",
   "execution_count": 6,
   "metadata": {},
   "outputs": [
    {
     "name": "stdout",
     "output_type": "stream",
     "text": [
      "+--------------------------------------------------------------------------------+\n",
      "|                                                                          Review|\n",
      "+--------------------------------------------------------------------------------+\n",
      "|nice hotel expensive parking got good deal stay hotel anniversary, arrived la...|\n",
      "|ok nothing special charge diamond member hilton decided chain shot 20th anniv...|\n",
      "|nice rooms not 4* experience hotel monaco seattle good hotel n't 4* level.pos...|\n",
      "|unique, great stay, wonderful time hotel monaco, location excellent short str...|\n",
      "|great stay great stay, went seahawk game awesome, downfall view building did ...|\n",
      "+--------------------------------------------------------------------------------+\n",
      "only showing top 5 rows\n",
      "\n"
     ]
    },
    {
     "data": {
      "text/plain": [
       "lowerReviews = [Review: string]\n"
      ]
     },
     "metadata": {},
     "output_type": "display_data",
     "source": "user"
    },
    {
     "data": {
      "text/plain": [
       "[Review: string]"
      ]
     },
     "execution_count": 6,
     "metadata": {},
     "output_type": "execute_result"
    }
   ],
   "source": [
    "// get review in lowercase\n",
    "val lowerReviews = existReviews.select(lower(col(\"Review\")) as \"Review\")\n",
    "lowerReviews.show(5, 80, false)"
   ]
  },
  {
   "cell_type": "code",
   "execution_count": 7,
   "metadata": {},
   "outputs": [
    {
     "name": "stdout",
     "output_type": "stream",
     "text": [
      "+--------------------------------------------------------------------------------+\n",
      "|                                                                          Review|\n",
      "+--------------------------------------------------------------------------------+\n",
      "|[nice, hotel, expensive, parking, got, good, deal, stay, hotel, anniversary, ...|\n",
      "|[ok, nothing, special, charge, diamond, member, hilton, decided, chain, shot,...|\n",
      "|[nice, rooms, not, 4*, experience, hotel, monaco, seattle, good, hotel, n't, ...|\n",
      "|[unique, great, stay, wonderful, time, hotel, monaco, location, excellent, sh...|\n",
      "|[great, stay, great, stay, went, seahawk, game, awesome, downfall, view, buil...|\n",
      "+--------------------------------------------------------------------------------+\n",
      "only showing top 5 rows\n",
      "\n"
     ]
    },
    {
     "data": {
      "text/plain": [
       "splitReviews = [Review: array<string>]\n"
      ]
     },
     "metadata": {},
     "output_type": "display_data",
     "source": "user"
    },
    {
     "data": {
      "text/plain": [
       "[Review: array<string>]"
      ]
     },
     "execution_count": 7,
     "metadata": {},
     "output_type": "execute_result"
    }
   ],
   "source": [
    "// split review on words\n",
    "val splitReviews = lowerReviews.select(split(col(\"Review\"), \"[^a-zA-z0-9*']{1,}\") as \"Review\").as[Seq[String]]\n",
    "splitReviews.show(5, 80, false)"
   ]
  },
  {
   "cell_type": "code",
   "execution_count": 8,
   "metadata": {},
   "outputs": [
    {
     "name": "stdout",
     "output_type": "stream",
     "text": [
      "+--------------------------------------------------------------------------------+---------+\n",
      "|                                                                          Review|lenReview|\n",
      "+--------------------------------------------------------------------------------+---------+\n",
      "|[nice, hotel, expensive, parking, got, good, deal, stay, hotel, anniversary, ...|       89|\n",
      "|[ok, nothing, special, charge, diamond, member, hilton, decided, chain, shot,...|      257|\n",
      "|[nice, rooms, not, 4*, experience, hotel, monaco, seattle, good, hotel, n't, ...|      225|\n",
      "|[unique, great, stay, wonderful, time, hotel, monaco, location, excellent, sh...|       91|\n",
      "|[great, stay, great, stay, went, seahawk, game, awesome, downfall, view, buil...|      192|\n",
      "+--------------------------------------------------------------------------------+---------+\n",
      "only showing top 5 rows\n",
      "\n"
     ]
    },
    {
     "data": {
      "text/plain": [
       "numWordsInReview = [Review: array<string>, lenReview: int]\n"
      ]
     },
     "metadata": {},
     "output_type": "display_data",
     "source": "user"
    },
    {
     "data": {
      "text/plain": [
       "[Review: array<string>, lenReview: int]"
      ]
     },
     "execution_count": 8,
     "metadata": {},
     "output_type": "execute_result"
    }
   ],
   "source": [
    "val numWordsInReview = splitReviews.withColumn(\"lenReview\", size(col(\"Review\")))\n",
    "numWordsInReview.show(5, 80, false)"
   ]
  },
  {
   "cell_type": "code",
   "execution_count": 9,
   "metadata": {},
   "outputs": [
    {
     "data": {
      "text/plain": [
       "wordFreqInReview = MapPartitionsRDD[33] at map at <console>:46\n"
      ]
     },
     "metadata": {},
     "output_type": "display_data",
     "source": "user"
    },
    {
     "data": {
      "text/plain": [
       "MapPartitionsRDD[33] at map at <console>:46"
      ]
     },
     "execution_count": 9,
     "metadata": {},
     "output_type": "execute_result"
    }
   ],
   "source": [
    "val wordFreqInReview = splitReviews.rdd.map(row => {\n",
    "    val wordFreq = row.foldLeft(new HashMap[String, Int]()) {\n",
    "        (map, word) => {\n",
    "            map += word -> (map.getOrElse(word, 0) + 1)\n",
    "            map\n",
    "        }\n",
    "    }\n",
    "    wordFreq\n",
    "})"
   ]
  },
  {
   "cell_type": "code",
   "execution_count": 10,
   "metadata": {},
   "outputs": [
    {
     "data": {
      "text/plain": [
       "wordFreqInReviews = ShuffledRDD[36] at reduceByKey at <console>:49\n"
      ]
     },
     "metadata": {},
     "output_type": "display_data",
     "source": "user"
    },
    {
     "data": {
      "text/plain": [
       "ShuffledRDD[36] at reduceByKey at <console>:49"
      ]
     },
     "execution_count": 10,
     "metadata": {},
     "output_type": "execute_result"
    }
   ],
   "source": [
    "val wordFreqInReviews = wordFreqInReview\n",
    "    .flatMap(_.keySet)\n",
    "    .map((_, 1))\n",
    "    .reduceByKey(_ + _)"
   ]
  },
  {
   "cell_type": "code",
   "execution_count": 11,
   "metadata": {},
   "outputs": [
    {
     "data": {
      "text/plain": [
       "numWords = 100\n",
       "ordering = scala.math.Ordering$$anon$9@51a40604\n",
       "topWordFreqInReviews = Array((\"\",20491), (hotel,16399), (room,14201), (not,12155), (staff,11766), (great,11126), (stay,10192), (good,9402), (stayed,8569), (rooms,8532), (n't,8378), (location,8359), (clean,7793), (just,7767), (nice,7499), (breakfast,7408), (did,7243), (no,6895), (night,6688), (service,6380), (time,6283), (friendly,5993), (day,5968), (food,5609), (like,5399), (place,5366), (helpful,5268), (really,4893), (small,4886), (the,4758), (walk,4744), (excellent,4528), (2,4495), (little,4415), (bathroom,4357), (best,4303), (area,4259), (recommend,4252), (got,4175), (people,4158), (pool,4101), (5,4009), (restaurants,3991), (beach,3972), (comfortable,3951), (3...\n"
      ]
     },
     "metadata": {},
     "output_type": "display_data",
     "source": "user"
    },
    {
     "data": {
      "text/plain": [
       "Array((\"\",20491), (hotel,16399), (room,14201), (not,12155), (staff,11766), (great,11126), (stay,10192), (good,9402), (stayed,8569), (rooms,8532), (n't,8378), (location,8359), (clean,7793), (just,7767), (nice,7499), (breakfast,7408), (did,7243), (no,6895), (night,6688), (service,6380), (time,6283), (friendly,5993), (day,5968), (food,5609), (like,5399), (place,5366), (helpful,5268), (really,4893), (small,4886), (the,4758), (walk,4744), (excellent,4528), (2,4495), (little,4415), (bathroom,4357), (best,4303), (area,4259), (recommend,4252), (got,4175), (people,4158), (pool,4101), (5,4009), (restaurants,3991), (beach,3972), (comfortable,3951), (3..."
      ]
     },
     "execution_count": 11,
     "metadata": {},
     "output_type": "execute_result"
    }
   ],
   "source": [
    "val numWords: Int = 100\n",
    "val ordering = Ordering.by[(String, Int), Int](_._2)\n",
    "val topWordFreqInReviews = wordFreqInReviews.top(numWords)(ordering)"
   ]
  },
  {
   "cell_type": "code",
   "execution_count": 12,
   "metadata": {},
   "outputs": [
    {
     "data": {
      "text/plain": [
       "numReview = 20491.0\n",
       "idfs = Map(beautiful -> 1.7868425837289796, shower -> 2.1194179939457767, \"\" -> 0.0, buffet -> 2.07064717943434, recommend -> 1.572596304874994, hotels -> 1.816713206143153, people -> 1.5949515759188744, city -> 1.8950561683692124, area -> 1.570951374413619, booked -> 1.8543380753504273, nights -> 1.6523646695004262, stayed -> 0.8718347256677137, bit -> 1.933446057920855, location -> 0.8966469626376764, 4 -> 1.8931100114137265, got -> 1.5908714070518768, want -> 1.8713142768138489, best -> 1.560673311498233, fantastic -> 2.1554094691672194, good -> 0.7790633327527566, hotel -> 0.22276540799338684, problem -> 2.154146576976639, big -> 2.116172554991653, going -> 2.0652438471062875, excellent -> 1.5097054244538135,...\n"
      ]
     },
     "metadata": {},
     "output_type": "display_data",
     "source": "user"
    },
    {
     "data": {
      "text/plain": [
       "Map(beautiful -> 1.7868425837289796, shower -> 2.1194179939457767, \"\" -> 0.0, buffet -> 2.07064717943434, recommend -> 1.572596304874994, hotels -> 1.816713206143153, people -> 1.5949515759188744, city -> 1.8950561683692124, area -> 1.570951374413619, booked -> 1.8543380753504273, nights -> 1.6523646695004262, stayed -> 0.8718347256677137, bit -> 1.933446057920855, location -> 0.8966469626376764, 4 -> 1.8931100114137265, got -> 1.5908714070518768, want -> 1.8713142768138489, best -> 1.560673311498233, fantastic -> 2.1554094691672194, good -> 0.7790633327527566, hotel -> 0.22276540799338684, problem -> 2.154146576976639, big -> 2.116172554991653, going -> 2.0652438471062875, excellent -> 1.5097054244538135,..."
      ]
     },
     "execution_count": 12,
     "metadata": {},
     "output_type": "execute_result"
    }
   ],
   "source": [
    "val numReview = wordFreqInReview.count().toDouble\n",
    "val idfs = topWordFreqInReviews.map{case (word, count) =>\n",
    "    (word, math.log(numReview / count))    \n",
    "}.toMap"
   ]
  },
  {
   "cell_type": "code",
   "execution_count": 13,
   "metadata": {},
   "outputs": [
    {
     "data": {
      "text/plain": [
       "wordToIndex = Map(beautiful -> 0, shower -> 1, \"\" -> 2, buffet -> 3, recommend -> 4, hotels -> 5, people -> 6, city -> 7, area -> 8, booked -> 9, nights -> 10, stayed -> 11, bit -> 12, location -> 13, 4 -> 14, got -> 15, want -> 16, best -> 17, fantastic -> 18, good -> 19, hotel -> 20, problem -> 21, big -> 22, going -> 23, excellent -> 24, bathroom -> 25, price -> 26, wonderful -> 27, clean -> 28, comfortable -> 29, just -> 30, trip -> 31, night -> 32, walk -> 33, 5 -> 34, quiet -> 35, 10 -> 36, perfect -> 37, walking -> 38, quite -> 39, nice -> 40, resort -> 41, restaurant -> 42, way -> 43, desk -> 44, service -> 45, rooms -> 46, bed -> 47, did -> 48, small -> 49, water -> 50, minutes -> 51, experience -> 52, need -> 53, check -> 54, restaur...\n"
      ]
     },
     "metadata": {},
     "output_type": "display_data",
     "source": "user"
    },
    {
     "data": {
      "text/plain": [
       "Map(beautiful -> 0, shower -> 1, \"\" -> 2, buffet -> 3, recommend -> 4, hotels -> 5, people -> 6, city -> 7, area -> 8, booked -> 9, nights -> 10, stayed -> 11, bit -> 12, location -> 13, 4 -> 14, got -> 15, want -> 16, best -> 17, fantastic -> 18, good -> 19, hotel -> 20, problem -> 21, big -> 22, going -> 23, excellent -> 24, bathroom -> 25, price -> 26, wonderful -> 27, clean -> 28, comfortable -> 29, just -> 30, trip -> 31, night -> 32, walk -> 33, 5 -> 34, quiet -> 35, 10 -> 36, perfect -> 37, walking -> 38, quite -> 39, nice -> 40, resort -> 41, restaurant -> 42, way -> 43, desk -> 44, service -> 45, rooms -> 46, bed -> 47, did -> 48, small -> 49, water -> 50, minutes -> 51, experience -> 52, need -> 53, check -> 54, restaur..."
      ]
     },
     "execution_count": 13,
     "metadata": {},
     "output_type": "execute_result"
    }
   ],
   "source": [
    "val wordToIndex = idfs.keys.zipWithIndex.toMap\n",
    "val indexToWord = idfs.keys.map(key => (wordToIndex(key), key)).toMap"
   ]
  },
  {
   "cell_type": "code",
   "execution_count": 14,
   "metadata": {},
   "outputs": [
    {
     "data": {
      "text/plain": [
       "tfIdfReviews = MapPartitionsRDD[38] at map at <console>:50\n"
      ]
     },
     "metadata": {},
     "output_type": "display_data",
     "source": "user"
    },
    {
     "data": {
      "text/plain": [
       "MapPartitionsRDD[38] at map at <console>:50"
      ]
     },
     "execution_count": 14,
     "metadata": {},
     "output_type": "execute_result"
    }
   ],
   "source": [
    "val tfIdfReviews = wordFreqInReview.map(wordFreqs => {\n",
    "    val wordTotalInReview = wordFreqs.values.sum\n",
    "    val wordScore = wordFreqs.filter{\n",
    "        case (word, freq) => wordToIndex.contains(word)\n",
    "    }.map{\n",
    "        case (word, freq) => (wordToIndex(word), idfs(word) * wordFreqs(word) / wordTotalInReview)\n",
    "    }.toSeq\n",
    "    Vectors.sparse(wordToIndex.size, wordScore).toArray\n",
    "})"
   ]
  },
  {
   "cell_type": "code",
   "execution_count": 15,
   "metadata": {},
   "outputs": [
    {
     "name": "stdout",
     "output_type": "stream",
     "text": [
      "+----------------------------------------------------------------------------------------------------+\n",
      "|                                                                                               value|\n",
      "+----------------------------------------------------------------------------------------------------+\n",
      "|[0.0, 0.0, 0.0, 0.0, 0.0, 0.0, 0.01792080422380758, 0.0, 0.0, 0.0, 0.0, 0.0, 0.0, 0.0100746849734...|\n",
      "|[0.0, 0.0, 0.0, 0.0, 0.0, 0.014137845962203525, 0.0, 0.0, 0.0, 0.007215323250390767, 0.0, 0.0, 0....|\n",
      "|[0.0, 0.009419635528647897, 0.0, 0.0, 0.0, 0.0, 0.0, 0.0, 0.0, 0.0, 0.0, 0.0, 0.0, 0.0, 0.0, 0.01...|\n",
      "|[0.0, 0.0, 0.0, 0.0, 0.0, 0.0, 0.0, 0.0, 0.03452640383326635, 0.0, 0.0, 0.0, 0.0, 0.0098532633256...|\n",
      "|[0.0, 0.0, 0.0, 0.0, 0.00819060575455726, 0.009462047948662256, 0.0, 0.009870084210256315, 0.0081...|\n",
      "+----------------------------------------------------------------------------------------------------+\n",
      "only showing top 5 rows\n",
      "\n"
     ]
    }
   ],
   "source": [
    "tfIdfReviews.toDF.show(5,100, false)"
   ]
  },
  {
   "cell_type": "code",
   "execution_count": null,
   "metadata": {},
   "outputs": [],
   "source": []
  }
 ],
 "metadata": {
  "kernelspec": {
   "display_name": "Apache Toree - Scala",
   "language": "scala",
   "name": "apache_toree_scala"
  },
  "language_info": {
   "codemirror_mode": "text/x-scala",
   "file_extension": ".scala",
   "mimetype": "text/x-scala",
   "name": "scala",
   "pygments_lexer": "scala",
   "version": "2.11.12"
  }
 },
 "nbformat": 4,
 "nbformat_minor": 4
}
